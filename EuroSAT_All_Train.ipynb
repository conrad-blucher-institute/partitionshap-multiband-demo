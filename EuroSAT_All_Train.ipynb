{
  "nbformat": 4,
  "nbformat_minor": 0,
  "metadata": {
    "colab": {
      "name": "EuroSAT_LandUse.ipynb",
      "provenance": [],
      "collapsed_sections": [],
      "mount_file_id": "1JqTxKa7A2hS0zYq2ETMVX0YQqGdv2M98",
      "authorship_tag": "ABX9TyOAs9tKdf+eczbZ33xSoMgB",
      "include_colab_link": true
    },
    "kernelspec": {
      "name": "python3",
      "display_name": "Python 3"
    },
    "accelerator": "GPU"
  },
  "cells": [
    {
      "cell_type": "markdown",
      "metadata": {
        "id": "view-in-github",
        "colab_type": "text"
      },
      "source": [
        "<a href=\"https://colab.research.google.com/github/ekrell/shap_multiband/blob/main/EuroSAT_All_Train.ipynb\" target=\"_parent\"><img src=\"https://colab.research.google.com/assets/colab-badge.svg\" alt=\"Open In Colab\"/></a>"
      ]
    },
    {
      "cell_type": "code",
      "metadata": {
        "id": "aGaIY24pq13B"
      },
      "source": [
        "!pip install torchsat"
      ],
      "execution_count": null,
      "outputs": []
    },
    {
      "cell_type": "code",
      "metadata": {
        "id": "jQlkHTiCMrHU"
      },
      "source": [
        "# Options\n",
        "TRAIN = False # Load trained model instead"
      ],
      "execution_count": null,
      "outputs": []
    },
    {
      "cell_type": "code",
      "metadata": {
        "id": "YdWTR2gY0Ia6"
      },
      "source": [
        "url_data = \"/content/drive/MyDrive/Data/\"\n",
        "url_python = \"/content/drive/MyDrive/Python/\"\n",
        "url_models = \"/content/drive/MyDrive/Models/\"\n",
        "path_meanSD = url_data + \"/\" + \"mean_sd.txt\"\n",
        "path_model = url_models + \"/\" + \"eurosat_landuse.pt\""
      ],
      "execution_count": null,
      "outputs": []
    },
    {
      "cell_type": "code",
      "metadata": {
        "id": "-_ndvzTtBAQ2"
      },
      "source": [
        "# Torch\n",
        "import torch\n",
        "import torch.nn as nn\n",
        "import torch.optim as optim\n",
        "import torch.optim.lr_scheduler as lr_scheduler\n",
        "from torch.optim.lr_scheduler import _LRScheduler\n",
        "import torch.utils.data as data\n",
        "from torch.utils.data import DataLoader\n",
        "from torch.utils.tensorboard import SummaryWriter\n",
        "# Torchvision\n",
        "import torchvision.transforms as transforms\n",
        "import torchvision.datasets as datasets\n",
        "from torchvision.datasets import ImageFolder\n",
        "import torchvision.models as models\n",
        "# Torchsat\n",
        "import torchsat.transforms.functional as F\n",
        "import torchsat.transforms.transforms_cls as T_cls\n",
        "from torchsat.transforms import transforms_cls\n",
        "import torchsat.datasets as datasets\n",
        "from torchsat.datasets.folder import DatasetFolder\n",
        "from torchsat.datasets.utils import tifffile_loader\n",
        "import torchsat.models\n",
        "from torchsat.models.classification.resnet import resnet18, resnet34, resnet50, resnet101, resnet152, resnext50_32x4d, resnext101_32x8d, wide_resnet50_2, wide_resnet101_2\n",
        "# Sci\n",
        "from sklearn import decomposition\n",
        "from sklearn import manifold\n",
        "from sklearn.metrics import confusion_matrix\n",
        "from sklearn.metrics import ConfusionMatrixDisplay\n",
        "import numpy as np\n",
        "from PIL import Image\n",
        "# General\n",
        "import matplotlib.pyplot as plt\n",
        "import copy\n",
        "from collections import namedtuple\n",
        "import os\n",
        "import random\n",
        "import shutil\n",
        "import time\n",
        "from pathlib import Path\n",
        "import math"
      ],
      "execution_count": null,
      "outputs": []
    },
    {
      "cell_type": "markdown",
      "metadata": {
        "id": "zZW573xjH4Uw"
      },
      "source": [
        "# Dataset\n",
        "EuroSAT: A Novel Dataset and Deep Learning Benchmark for Land Use and Land Cover Classification\n",
        "\n",
        "    Helber, Patrick, et al. \"Eurosat: A novel dataset and deep learning benchmark for land use and land cover classification.\" IEEE Journal of Selected Topics in Applied Earth Observations and Remote Sensing 12.7 (2019): 2217-2226.\n",
        "\n",
        "- Images: 27000\n",
        "- Size: 64x64 (13 bands)\n",
        "- Classes:\n",
        "  - AnnualCrop (3000)\n",
        "  - Forest (3000)\n",
        "  - HerbaceousVegetation (3000)\n",
        "  - Highway (2500)\n",
        "  - Industrial (2500)\n",
        "  - Pasture (2000)\n",
        "  - PermanentCrop (2500)\n",
        "  - Residential (3000)\n",
        "  - River (2500)\n",
        "  - SeaLake (3000) \n",
        "- Bands:\n",
        "  - B01: Aerosols\n",
        "  - B02: Blue\n",
        "  - B03: Green\n",
        "  - B04: Red\n",
        "  - B05: Red edge 1\n",
        "  - B06: Red edge 2\n",
        "  - B07: Red edge 3\n",
        "  - B08: NIR\n",
        "  - B08A: Red edge 4\n",
        "  - B09: Water vapor\n",
        "  - B10: Cirrus\n",
        "  - B11: SWIR 1\n",
        "  - B12: SWIR 2"
      ]
    },
    {
      "cell_type": "code",
      "metadata": {
        "id": "1bSqDezXyHu5"
      },
      "source": [
        "# Data paths\n",
        "projectDir = Path(url_data + \"/\" + \"EuroSatAllBands/\")\n",
        "imgDir = Path(projectDir, \"ImagesSmallSep\")"
      ],
      "execution_count": null,
      "outputs": []
    },
    {
      "cell_type": "code",
      "metadata": {
        "id": "CY7PHOrTP4B2"
      },
      "source": [
        "# Set random seeds for reproducability\n",
        "# SEED = 1234\n",
        "# random.seed(SEED)\n",
        "# np.random.seed(SEED)\n",
        "# torch.manual_seed(SEED)\n",
        "# torch.cuda.manual_seed(SEED)\n",
        "# torch.backends.cudnn.deterministic = True"
      ],
      "execution_count": null,
      "outputs": []
    },
    {
      "cell_type": "code",
      "metadata": {
        "id": "eF34u_8aCRII"
      },
      "source": [
        "import os\n",
        "import random\n",
        "from glob import glob\n",
        "from pathlib import Path\n",
        "\n",
        "import click\n",
        "import numpy as np\n",
        "import tifffile\n",
        "from PIL import Image\n",
        "from tqdm import tqdm\n",
        "\n",
        "def img_loader(fp):\n",
        "    if Path(fp).suffix.lower() in [\".jpg\", \".jpeg\", \".png\"]:\n",
        "        arr = np.array(Image.open(fp))\n",
        "    else:\n",
        "        arr = tifffile.imread(fp)\n",
        "    return arr\n",
        "\n",
        "def calcuate_mean_std(root, percent, channels, maxvalue, extension):\n",
        "    files = [x for x in Path(root).glob('**/*')]\n",
        "    files = [x for x in files if os.path.splitext(x)[-1].lower() == extension]\n",
        "    random.shuffle(files)\n",
        "    files = files[0: int(len(files) * percent)]\n",
        "\n",
        "    if not files:\n",
        "        print(\"INFO: No Image Found!\")\n",
        "        return\n",
        "    else:\n",
        "        print(\"Number of files to use: {}\".format(len(files)))\n",
        "\n",
        "    pixel_num = 0  # store all pixel number in the dataset\n",
        "    channel_sum = np.zeros(channels)\n",
        "    channel_sum_squared = np.zeros(channels)\n",
        "    for item in tqdm(files):\n",
        "        arr = img_loader(item)\n",
        "        arr = arr / maxvalue\n",
        "        pixel_num += arr.shape[0] * arr.shape[1]\n",
        "        channel_sum += np.sum(arr, axis=(0, 1))\n",
        "        channel_sum_squared += np.sum(np.square(arr), axis=(0, 1))\n",
        "\n",
        "    mean = channel_sum / pixel_num\n",
        "    std = np.sqrt(channel_sum_squared / pixel_num - np.square(mean))\n",
        "\n",
        "    print(\"scaled  mean:{} \\nscaled  std: {} \".format(mean, std))\n",
        "    print(\"orginal mean: {} \\norginal std: {}\".format(mean * maxvalue, std * maxvalue))\n",
        "\n",
        "    return mean, std, mean * maxvalue, std * maxvalue"
      ],
      "execution_count": null,
      "outputs": []
    },
    {
      "cell_type": "code",
      "metadata": {
        "id": "4gkhJ1vcCiVn"
      },
      "source": [
        "meanSD_fromTrain = False\n",
        "\n",
        "# 12-bit satellite image, values between 0 - 4095 (not 255)\n",
        "maxBN = 4095\n",
        "n_channels = 13\n",
        "\n",
        "if meanSD_fromTrain:\n",
        "  # Calculate training data mean and std. dev.\n",
        "  cache = True\n",
        "  useCache = True\n",
        "  # Percent of training data images to include in calculating the mean, std. dev.\n",
        "  percDataForCalc = 0.5 \n",
        "\n",
        "  if useCache == False:\n",
        "    mean_scaled, std_scaled, mean_orig, std_orig = calcuate_mean_std(Path(imgDir, \"train\"), .5, n_channels, maxBN, \".tif\")\n",
        "    meanSD = [mean_scaled, std_scaled, mean_orig, std_orig]\n",
        "    if cache:\n",
        "      np.savetxt(path_meanSD, meanSD)\n",
        "  else:\n",
        "    meanSD = np.loadtxt(path_meanSD)\n",
        "else:\n",
        "  # Use 0.5 to scale all to [-1, 1]\n",
        "  mean = [0.5 for i in range(n_channels)]\n",
        "  std = [0.5 for i in range(n_channels)]\n",
        "  meanSD = [mean, std]"
      ],
      "execution_count": null,
      "outputs": []
    },
    {
      "cell_type": "code",
      "metadata": {
        "colab": {
          "base_uri": "https://localhost:8080/"
        },
        "id": "WKPcYB63MZ-t",
        "outputId": "d028b444-897e-40b6-fcd2-20fd69568a03"
      },
      "source": [
        "meanSD"
      ],
      "execution_count": null,
      "outputs": [
        {
          "output_type": "execute_result",
          "data": {
            "text/plain": [
              "[[0.5, 0.5, 0.5, 0.5, 0.5, 0.5, 0.5, 0.5, 0.5, 0.5, 0.5, 0.5, 0.5],\n",
              " [0.5, 0.5, 0.5, 0.5, 0.5, 0.5, 0.5, 0.5, 0.5, 0.5, 0.5, 0.5, 0.5]]"
            ]
          },
          "metadata": {
            "tags": []
          },
          "execution_count": 9
        }
      ]
    },
    {
      "cell_type": "code",
      "metadata": {
        "id": "Nk4AQ4vGRVBd"
      },
      "source": [
        "# Define transformers\n",
        "train_transform = T_cls.Compose([\n",
        "    T_cls.RandomHorizontalFlip(),\n",
        "    T_cls.RandomVerticalFlip(),\n",
        "    T_cls.ToTensor(),\n",
        "    # T_cls.Normalize(mean=meanSD[0], std=meanSD[1]),\n",
        "])\n",
        "val_transform = T_cls.Compose([\n",
        "    T_cls.ToTensor(),\n",
        "    # T_cls.Normalize(mean=meanSD[0], std=meanSD[1]),\n",
        "])\n",
        "\n",
        "# Load data from folders\n",
        "trainData = datasets.folder.DatasetFolder(Path(imgDir, \"train\"), datasets.utils.tifffile_loader, \".tif\", transform=train_transform)\n",
        "valData   = datasets.folder.DatasetFolder(Path(imgDir, \"val\"),   datasets.utils.tifffile_loader, \".tif\", transform=val_transform)\n",
        "testData  = datasets.folder.DatasetFolder(Path(imgDir, \"test\"),  datasets.utils.tifffile_loader, \".tif\")\n",
        "\n",
        "# Data information\n",
        "classes = trainData.classes\n",
        "n_classes = len(classes)\n",
        "n_train = len(trainData)\n",
        "n_val = len(valData)\n",
        "n_test = len(testData)"
      ],
      "execution_count": null,
      "outputs": []
    },
    {
      "cell_type": "code",
      "metadata": {
        "colab": {
          "base_uri": "https://localhost:8080/"
        },
        "id": "AtO144AJ-oKD",
        "outputId": "8bc57281-9cb8-4851-a7f0-35cd6ebfecaa"
      },
      "source": [
        "# Check valid data\n",
        "doCheckValidData = False # SLOW -> set to true if problems\n",
        "\n",
        "if doCheckValidData:\n",
        "  bad_idxs = []\n",
        "  for i in range(n_train):\n",
        "    try:\n",
        "      x, y = trainData[i]\n",
        "    except:\n",
        "      bad_idxs.append(i)\n",
        "    if (i % 100 == 0):\n",
        "      print (\"{} / {}\".format(i, n_train))\n",
        "\n",
        "  print(\"Bad training samples: \", len(bad_idxs))\n",
        "  print(bad_idxs)\n",
        "  print(trainData.samples[bad_idxs[0]])\n",
        "else:\n",
        "  print(\"Skipped checking for bad data\")"
      ],
      "execution_count": null,
      "outputs": [
        {
          "output_type": "stream",
          "text": [
            "Skipped checking for bad data\n"
          ],
          "name": "stdout"
        }
      ]
    },
    {
      "cell_type": "code",
      "metadata": {
        "colab": {
          "base_uri": "https://localhost:8080/",
          "height": 323
        },
        "id": "c1B8iVvy0w7a",
        "outputId": "36ca7eca-25ea-4c94-82f5-0a27828babca"
      },
      "source": [
        "def imgShow(x, ax=None):\n",
        "  img = Image.fromarray(np.uint8(x[:,:,1:4][:,:,(2, 0, 1)] >> 4))\n",
        "  if ax == None:\n",
        "    plt.imshow(img)\n",
        "  ax.imshow(img)\n",
        "\n",
        "def normShow(x, ax=None):\n",
        "  # img = transforms.ToPILImage()(np.uint8(x[:,:,1:4][:,:,(2, 0, 1)] >> 4)).convert(\"RGB\")\n",
        "  img = transforms.ToPILImage()(val_transform(x[:,:,1:4][:,:,(2, 0, 1)] >> 4)).convert(\"RGB\")\n",
        "  if ax == None:\n",
        "    plt.imshow(img)\n",
        "  ax.imshow(img)\n",
        "\n",
        "# Show sample images\n",
        "fig, axs = plt.subplots(2, 3);\n",
        "# Train sample\n",
        "x,y = testData[0]\n",
        "imgShow(x, ax=axs[0][0]);\n",
        "axs[0][0].set_title(classes[y]);\n",
        "# Validate sample\n",
        "x,y = testData[1]\n",
        "imgShow(x, ax=axs[0][1]);\n",
        "axs[0][1].set_title(classes[y]);\n",
        "# Test sample\n",
        "x,y = testData[2]\n",
        "imgShow(x, ax=axs[0][2]);\n",
        "axs[0][2].set_title(classes[y]);\n",
        "plt.tight_layout()\n",
        "# Train sample\n",
        "x,y = testData[0]\n",
        "normShow(x, ax=axs[1][0]);\n",
        "axs[1][0].set_title(classes[y]);\n",
        "# Validate sample\n",
        "x,y = testData[1]\n",
        "normShow(x, ax=axs[1][1]);\n",
        "axs[1][1].set_title(classes[y]);\n",
        "# Test sample\n",
        "x,y = testData[2]\n",
        "normShow(x, ax=axs[1][2]);\n",
        "axs[1][2].set_title(classes[y]);\n",
        "plt.tight_layout()\n",
        "\n",
        "print(\"{} rows, {} columns, {} channels.\".format(x.shape[0], x.shape[1], x.shape[2]))"
      ],
      "execution_count": null,
      "outputs": [
        {
          "output_type": "stream",
          "text": [
            "64 rows, 64 columns, 13 channels.\n"
          ],
          "name": "stdout"
        },
        {
          "output_type": "display_data",
          "data": {
            "image/png": "[encoded data removed]",
            "text/plain": [
              "<Figure size 432x288 with 6 Axes>"
            ]
          },
          "metadata": {
            "tags": [],
            "needs_background": "light"
          }
        }
      ]
    },
    {
      "cell_type": "markdown",
      "metadata": {
        "id": "QTrRqhBkAHrc"
      },
      "source": [
        "# Training"
      ]
    },
    {
      "cell_type": "code",
      "metadata": {
        "id": "gt49ykJaAK5K"
      },
      "source": [
        "# Params\n",
        "torch.backends.cudnn.benchmark = True\n",
        "printFreq = 10\n",
        "\n",
        "# Hardware\n",
        "device = torch.device('cuda')\n",
        "# Batch size\n",
        "batchSize = 64\n",
        "\n",
        "# Initial learning rate\n",
        "learningRate = 0.1\n",
        "# epochs\n",
        "n_epochs = 100"
      ],
      "execution_count": null,
      "outputs": []
    },
    {
      "cell_type": "code",
      "metadata": {
        "id": "kb10YWOFMikR"
      },
      "source": [
        "# Data loaders\n",
        "train_loader = DataLoader(trainData, batch_size=batchSize, shuffle=True)\n",
        "val_loader   = DataLoader(valData,   batch_size=batchSize, shuffle=True)"
      ],
      "execution_count": null,
      "outputs": []
    },
    {
      "cell_type": "code",
      "metadata": {
        "id": "hdeE6fPjBt1F"
      },
      "source": [
        "# Load model\n",
        "model = resnet18(n_classes, 13)\n",
        "model.to(device)\n",
        "\n",
        "# Define learning components\n",
        "criterion = nn.CrossEntropyLoss()\n",
        "optimizer = optim.Adam(model.parameters(), lr=learningRate)\n",
        "lr_scheduler = optim.lr_scheduler.StepLR(optimizer, step_size=10, gamma=0.1)"
      ],
      "execution_count": null,
      "outputs": []
    },
    {
      "cell_type": "code",
      "metadata": {
        "id": "19RcphlaM3N0"
      },
      "source": [
        "def train_one_epoch(model, criterion, optimizer, data_loader, device, epoch, print_freq, writer):\n",
        "    model.train()\n",
        "    for idx, (image, target) in enumerate(data_loader):\n",
        "        image, target = image.to(device, dtype=torch.float), target.to(device)\n",
        "        output = model(image)\n",
        "        loss = criterion(output, target)\n",
        "        optimizer.zero_grad()\n",
        "        loss.backward()\n",
        "        optimizer.step()\n",
        "\n",
        "        if idx % print_freq == 0:\n",
        "            print('Train Epoch: {} [{}/{} ({:.0f}%)]\\tLoss: {:.6f}'.format(\n",
        "                epoch, idx * len(image), len(data_loader.dataset), 100. * idx / len(data_loader), loss.item()))\n",
        "            # writer.add_scalar('train/loss', loss.item(), len(data_loader) * epoch + idx)"
      ],
      "execution_count": null,
      "outputs": []
    },
    {
      "cell_type": "code",
      "metadata": {
        "id": "vifREHMkM-mM"
      },
      "source": [
        "def evaluate(epoch, model, criterion, data_loader, device, writer):\n",
        "    model.eval()\n",
        "    loss = 0\n",
        "    correct = 0\n",
        "    with torch.no_grad():\n",
        "        for idx, (image, target) in enumerate(data_loader):\n",
        "            image = image.to(device, dtype=torch.float, non_blocking=True)\n",
        "            target = target.to(device, non_blocking=True)\n",
        "            output = model(image)\n",
        "            loss += criterion(output, target).item()\n",
        "\n",
        "            pred = output.argmax(dim=1, keepdim=True)  # get the index of the max log-probability\n",
        "            correct += pred.eq(target.view_as(pred)).sum().item()\n",
        "\n",
        "        loss /= len(data_loader.dataset)/data_loader.batch_size\n",
        "\n",
        "        print('\\nTest set: Average loss: {:.4f}, Accuracy: {}/{} ({:.0f}%)\\n'.format(\n",
        "            loss, correct, len(data_loader.dataset),\n",
        "            100. * correct / len(data_loader.dataset)))\n",
        "        # writer.add_scalar('test/loss', loss, len(data_loader) * epoch)\n",
        "        # writer.add_scalar('test/accuracy', correct / len(data_loader.dataset), epoch)"
      ],
      "execution_count": null,
      "outputs": []
    },
    {
      "cell_type": "code",
      "metadata": {
        "id": "ClTuQpP4CrhJ"
      },
      "source": [
        "if TRAIN:\n",
        "  # Train\n",
        "  writer = SummaryWriter(url_models)\n",
        "  for epoch in range(n_epochs):\n",
        "    # writer.add_scalar('train/learning_rate', lr_scheduler.get_last_lr()[0], epoch)\n",
        "    train_one_epoch(model, criterion, optimizer, train_loader, device, epoch, printFreq, writer)\n",
        "    lr_scheduler.step()\n",
        "    evaluate(epoch, model, criterion, val_loader, device, writer)\n",
        "    torch.save(model.state_dict(), os.path.join(url_models, \"cls_epoch_{}.pth\".format(epoch)))"
      ],
      "execution_count": null,
      "outputs": []
    },
    {
      "cell_type": "markdown",
      "metadata": {
        "id": "2cCR1NRdVgbt"
      },
      "source": [
        "# Prediction"
      ]
    },
    {
      "cell_type": "code",
      "metadata": {
        "colab": {
          "base_uri": "https://localhost:8080/"
        },
        "id": "6luoTbnWVixp",
        "outputId": "c9d0d959-7f2b-4243-a752-0388ca15e679"
      },
      "source": [
        "class_to_idx = {\n",
        "        'AnnualCrop': 0,\n",
        "        'Forest': 1,\n",
        "        'HerbaceousVegetation': 2,\n",
        "        'Highway': 3,\n",
        "        'Industrial': 4,\n",
        "        'Pasture': 5,\n",
        "        'PermanentCrop': 6,\n",
        "        'Residential': 7,\n",
        "        'River': 8,\n",
        "        'SeaLake': 9,\n",
        "    }\n",
        "idx_to_class = {v: k for k, v in class_to_idx.items()}\n",
        "\n",
        "ckp = url_models + \"/\" + \"cls_epoch_22.pth\"\n",
        "model.load_state_dict(torch.load(ckp, map_location=torch.device('cuda')))"
      ],
      "execution_count": null,
      "outputs": [
        {
          "output_type": "execute_result",
          "data": {
            "text/plain": [
              "<All keys matched successfully>"
            ]
          },
          "metadata": {
            "tags": []
          },
          "execution_count": 19
        }
      ]
    },
    {
      "cell_type": "code",
      "metadata": {
        "colab": {
          "base_uri": "https://localhost:8080/",
          "height": 314
        },
        "id": "umVhIDE8WFuh",
        "outputId": "d9dab60c-ecd8-4398-9d81-b9e4202e4baf"
      },
      "source": [
        "# Get test image\n",
        "image, target = testData[200]\n",
        "# Plot test image\n",
        "fig, ax = plt.subplots(1);\n",
        "imgShow(image, ax=ax);\n",
        "ax.set_title(classes[target]);\n",
        "plt.tight_layout()\n",
        "\n",
        "# Convert to tensor\n",
        "image = F.to_tensor(image)\n",
        "# Normalize (with train data mean, std. dev.)\n",
        "# image = F.normalize(image, meanSD[0], meanSD[1])\n",
        "# Reshape for the model [bands, h, w] -> [batch size, bands, h, w]\n",
        "image = torch.unsqueeze(image, 0) \n",
        "# Place on device\n",
        "image.to(\"cpu\", dtype=torch.float)\n",
        "\n",
        "# (image, target) \n",
        "# image = image.to(device, dtype=torch.float, non_blocking=True)\n",
        "\n",
        "model.to(\"cpu\", dtype=torch.double)\n",
        "\n",
        "model.eval()\n",
        "with torch.no_grad():\n",
        "  \n",
        "  output = model(image)\n",
        "  predict_class = output.argmax(dim=1,).item()\n",
        "\n",
        "  print('predict class: {}'.format(idx_to_class.get(predict_class)))"
      ],
      "execution_count": null,
      "outputs": [
        {
          "output_type": "stream",
          "text": [
            "predict class: Residential\n"
          ],
          "name": "stdout"
        },
        {
          "output_type": "display_data",
          "data": {
            "image/png": "[encoded data removed]",
            "text/plain": [
              "<Figure size 432x288 with 1 Axes>"
            ]
          },
          "metadata": {
            "tags": [],
            "needs_background": "light"
          }
        }
      ]
    },
    {
      "cell_type": "markdown",
      "metadata": {
        "id": "pl4nXgguIMnY"
      },
      "source": [
        "# Save model"
      ]
    },
    {
      "cell_type": "code",
      "metadata": {
        "id": "RThJUAHxIOE_"
      },
      "source": [
        "torch.save(model, path_model)"
      ],
      "execution_count": null,
      "outputs": []
    }
  ]
}